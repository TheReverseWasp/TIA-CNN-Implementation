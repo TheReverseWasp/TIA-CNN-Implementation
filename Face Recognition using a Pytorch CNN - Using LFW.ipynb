{
 "cells": [
  {
   "cell_type": "markdown",
   "metadata": {},
   "source": [
    "# Face Recognition using a Pytorch CNN - Using LFW \n",
    "LFW Dataset - https://www.kaggle.com/jessicali9530/lfw-dataset"
   ]
  },
  {
   "cell_type": "code",
   "execution_count": 2,
   "metadata": {},
   "outputs": [],
   "source": [
    "import pandas as pd\n",
    "import os\n",
    "import numpy as np\n",
    "from PIL import Image\n",
    "from matplotlib.pyplot import imshow\n",
    "import math\n",
    "import copy as cp\n",
    "######\n",
    "import torch\n",
    "import torch.nn as nn\n",
    "import torch.nn.functional as F\n",
    "from torch.autograd import Variable"
   ]
  },
  {
   "cell_type": "code",
   "execution_count": 13,
   "metadata": {},
   "outputs": [
    {
     "name": "stdout",
     "output_type": "stream",
     "text": [
      "FacialS_CNN(\n",
      "  (conv1): Conv2d(3, 6, kernel_size=(7, 7), stride=(1, 1))\n",
      "  (conv2): Conv2d(6, 9, kernel_size=(7, 7), stride=(1, 1))\n",
      "  (conv3): Conv2d(9, 12, kernel_size=(7, 7), stride=(1, 1))\n",
      "  (conv4): Conv2d(12, 15, kernel_size=(7, 7), stride=(1, 1))\n",
      "  (fc1): Linear(in_features=1500, out_features=256, bias=True)\n",
      "  (fc2): Linear(in_features=256, out_features=200, bias=True)\n",
      "  (fc3): Linear(in_features=200, out_features=128, bias=True)\n",
      ")\n"
     ]
    }
   ],
   "source": [
    "class FacialS_CNN(nn.Module):\n",
    "\n",
    "    def __init__(self, inchannels = 3):\n",
    "        super(FacialS_CNN, self).__init__()\n",
    "        # 3 input image channel then 6 ch then 9 and finnally 12, 3x3 square convolution\n",
    "        # kernel\n",
    "        self.conv1 = nn.Conv2d(inchannels, inchannels * 2, 7)\n",
    "        self.conv2 = nn.Conv2d(inchannels * 2, inchannels * 3, 7)\n",
    "        self.conv3 = nn.Conv2d(inchannels * 3, inchannels * 4, 7)\n",
    "        self.conv4 = nn.Conv2d(inchannels * 4, inchannels * 5, 7)\n",
    "        \n",
    "        # an affine operation: y = Wx + b\n",
    "        # Remember after a conv operation nout = (nin+2*npadding-nfilter)+1\n",
    "        # in this example\n",
    "        # conv1 = 250-7+1 = 244 => Maxpool => 122\n",
    "        # conv2 = 122-7+1 = 122 => maxpool => 58\n",
    "        # conv3 = 58-7+1 = 52 => maxpool => 26\n",
    "        # conv4 = 26-7+1 = 20 => maxpool => 10\n",
    "        self.fc1 = nn.Linear(inchannels * 5 * 10 * 10, 256)  # 10*10 from image dimension\n",
    "        self.fc2 = nn.Linear(256, 200)\n",
    "        self.fc3 = nn.Linear(200, 128)\n",
    "\n",
    "    def forward(self, x, list_case, training = False):\n",
    "            x = F.max_pool2d(F.relu(self.conv1(x.float())), 2)\n",
    "            x = F.max_pool2d(F.relu(self.conv2(x)), 2)\n",
    "            x = F.max_pool2d(F.relu(self.conv3(x)), 2)\n",
    "            x = F.max_pool2d(F.relu(self.conv4(x)), 2)\n",
    "            x = x.view(-1, self.num_flat_features(x))\n",
    "            x = F.relu(self.fc1(x))\n",
    "            x = F.relu(self.fc2(x))\n",
    "            x = self.fc3(x)\n",
    "            answer1 = cp.copy(x)\n",
    "            if training == True:\n",
    "                #triplet similar\n",
    "                x = list_case[name][0]\n",
    "                x = F.max_pool2d(F.relu(self.conv1(x.float())), 2)\n",
    "                x = F.max_pool2d(F.relu(self.conv2(x)), 2)\n",
    "                x = F.max_pool2d(F.relu(self.conv3(x)), 2)\n",
    "                x = F.max_pool2d(F.relu(self.conv4(x)), 2)\n",
    "                x = x.view(-1, self.num_flat_features(x))\n",
    "                x = F.relu(self.fc1(x))\n",
    "                x = F.relu(self.fc2(x))\n",
    "                x = self.fc3(x)\n",
    "                answer2 = cp.copy(x)\n",
    "                #triplet different\n",
    "                x = list_case[name][1]\n",
    "                x = F.max_pool2d(F.relu(self.conv1(x.float())), 2)\n",
    "                x = F.max_pool2d(F.relu(self.conv2(x)), 2)\n",
    "                x = F.max_pool2d(F.relu(self.conv3(x)), 2)\n",
    "                x = F.max_pool2d(F.relu(self.conv4(x)), 2)\n",
    "                x = x.view(-1, self.num_flat_features(x))\n",
    "                x = F.relu(self.fc1(x))\n",
    "                x = F.relu(self.fc2(x))\n",
    "                x = self.fc3(x)\n",
    "                answer3 = cp.copy(x)\n",
    "                return answer1, [answer2, answer3]\n",
    "            return answer1\n",
    "            \n",
    "    def num_flat_features(self, x):\n",
    "        size = x.size()[1:]  # all dimensions except the batch dimension\n",
    "        num_features = 1\n",
    "        for s in size:\n",
    "            num_features *= s\n",
    "        return num_features\n",
    "    \n",
    "myCNN = FacialS_CNN()\n",
    "print(myCNN)"
   ]
  },
  {
   "cell_type": "code",
   "execution_count": 8,
   "metadata": {},
   "outputs": [],
   "source": [
    "def str_converter(num, sz):\n",
    "    num = str(num)\n",
    "    while len(num) < sz:\n",
    "        num = \"0\" + num\n",
    "    return num"
   ]
  },
  {
   "cell_type": "code",
   "execution_count": 9,
   "metadata": {},
   "outputs": [],
   "source": [
    "data_folder = \"./Data/Data/\"\n",
    "face_folder = \"lfw-deepfunneled/lfw-deepfunneled/\"\n",
    "name_ds = pd.read_csv(data_folder + \"lfw/lfw_allnames.csv\")\n",
    "name_list = name_ds.values.tolist()\n",
    "name = \"Ricardo_Lazo_fr\"\n",
    "name_list.append([name, 6])"
   ]
  },
  {
   "cell_type": "code",
   "execution_count": 11,
   "metadata": {},
   "outputs": [
    {
     "name": "stdout",
     "output_type": "stream",
     "text": [
      "nombres totales: 902 imagenes totales: 7612\n"
     ]
    }
   ],
   "source": [
    "solved_list = []\n",
    "acum = 0\n",
    "for i in name_list:\n",
    "    if i[1] >= 3:\n",
    "        solved_list.append(cp.copy(i))\n",
    "        acum += i[1]\n",
    "print(\"nombres totales:\", len(solved_list), \"imagenes totales:\", acum)"
   ]
  },
  {
   "cell_type": "code",
   "execution_count": 15,
   "metadata": {},
   "outputs": [],
   "source": [
    "alfa = 0.1\n",
    "def myLoss(answer1, answer2):\n",
    "    [similar, different] = answer2\n",
    "    return max(((torch.sum((answer1 - similar) ** 2) - (torch.sum((answer1 - different) ** 2))) / 128 + alfa ), 0)"
   ]
  },
  {
   "cell_type": "code",
   "execution_count": 17,
   "metadata": {},
   "outputs": [],
   "source": [
    "# loss\n",
    "loss_fn = myLoss\n",
    "# learning rate\n",
    "learning_rate = 1e-4\n",
    "# optimizer\n",
    "optimizer = torch.optim.Adam(myCNN.parameters(), lr=learning_rate)"
   ]
  },
  {
   "cell_type": "code",
   "execution_count": null,
   "metadata": {},
   "outputs": [],
   "source": [
    "for it in range(500):\n",
    "    for i in range(len(solved_list)):\n",
    "        name = solved_list[i][0]\n",
    "        rival = solved_list[(i + 1) % 902][0]\n",
    "        im = Image.open(data_folder + \"lfw/\" + face_folder + name + \"/\" + name + \"_\" + str_converter(1, 4) + \".jpg\")\n",
    "        temp_np = np.reshape(np.array(im), (1,3,250,250))\n",
    "        x = Variable(torch.from_numpy(temp_np)) \n",
    "        list_case = []\n",
    "        \n",
    "        im = Image.open(data_folder + \"lfw/\" + face_folder + name + \"/\" + name + \"_\" + str_converter(2, 4) + \".jpg\")\n",
    "        temp_np = np.reshape(np.array(im), (1,3,250,250))\n",
    "        s = Variable(torch.from_numpy(temp_np)) \n",
    "        \n",
    "        im = Image.open(data_folder + \"lfw/\" + face_folder + name + \"/\" + name + \"_\" + str_converter(1, 4) + \".jpg\")\n",
    "        temp_np = np.reshape(np.array(im), (1,3,250,250))\n",
    "        r = Variable(torch.from_numpy(temp_np)) \n",
    "        \n",
    "        list_case.append(s)\n",
    "        list_case.append(r)\n",
    "        \n",
    "        # Forward pass: compute predicted y by passing x to the model.\n",
    "        answer1, answer2 = myCNN(x, list_case, training = True) #4*1\n",
    "        # Compute and print loss.\n",
    "        loss = loss_fn(answer1, answer2)\n",
    "        optimizer.zero_grad()\n",
    "        loss.backward()\n",
    "        optimizer.step()\n",
    "        \n",
    "    if it % 100 == 99:\n",
    "        print(\"it: \", it + 1)"
   ]
  },
  {
   "cell_type": "code",
   "execution_count": null,
   "metadata": {},
   "outputs": [],
   "source": [
    "db = []\n",
    "for i in solved_list:\n",
    "    name = i[0]\n",
    "    im = Image.open(data_folder + \"lfw/\" + face_folder + name + \"/\" + name + \"_\" + str_converter(1, 4) + \".jpg\")\n",
    "    temp_np = np.reshape(np.array(im), (1,3,250,250))\n",
    "    x = Variable(torch.from_numpy(temp_np)) \n",
    "    answer1 = myCNN(x, [])\n",
    "    db.append([name, answer1])"
   ]
  },
  {
   "cell_type": "code",
   "execution_count": null,
   "metadata": {},
   "outputs": [],
   "source": [
    "def Hdistance(a, b): #both tensors\n",
    "    return (torch.sum((a - b) ** 2) / 128"
   ]
  },
  {
   "cell_type": "code",
   "execution_count": null,
   "metadata": {},
   "outputs": [],
   "source": [
    "#just my case\n",
    "name = \"Ricardo_Lazo_fr\"\n",
    "im = Image.open(data_folder + \"lfw/\" + face_folder + name + \"/\" + name + \"_\" + str_converter(3, 4) + \".jpg\")\n",
    "temp_np = np.reshape(np.array(im), (1,3,250,250))\n",
    "x = Variable(torch.from_numpy(temp_np)) \n",
    "answer1 = myCNN(x, [])"
   ]
  },
  {
   "cell_type": "code",
   "execution_count": null,
   "metadata": {},
   "outputs": [],
   "source": [
    "similar = \"\"\n",
    "distance = 10000000\n",
    "for i in db:\n",
    "    temp = Hdistance(answer1, i[1])\n",
    "    if temp < distance:\n",
    "        distance = temp\n",
    "        similar = i[0]\n",
    "print(\"Me paresco a:\", similar)"
   ]
  }
 ],
 "metadata": {
  "kernelspec": {
   "display_name": "Python 3",
   "language": "python",
   "name": "python3"
  },
  "language_info": {
   "codemirror_mode": {
    "name": "ipython",
    "version": 3
   },
   "file_extension": ".py",
   "mimetype": "text/x-python",
   "name": "python",
   "nbconvert_exporter": "python",
   "pygments_lexer": "ipython3",
   "version": "3.6.9"
  }
 },
 "nbformat": 4,
 "nbformat_minor": 4
}
